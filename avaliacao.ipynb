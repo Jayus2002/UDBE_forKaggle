{
 "cells": [
  {
   "cell_type": "markdown",
   "metadata": {},
   "source": [
    "# BRDM: Brightness Restoration in Underwater Images from Diffusion Models\n",
    "\n",
    "Este notebook foi projetado para testar e avaliar este modelo e as técnicas utilizadas em sua construção. O método utilizado aqui é destinado à pesquisa na área de aprimoramento de imagens. A principal questão é saber se é possível que um modelo de difusão aprenda a melhorar uma imagem subaquática, particularmente suas características de brilho. O objetivo principal é fornecer uma imagem como entrada e um valor de brilho, e o modelo gerará uma nova imagem com iluminação aprimorada. Em outras palavras, o método visa alcançar o aprimoramento controlável da iluminação em toda a imagem."
   ]
  },
  {
   "cell_type": "markdown",
   "metadata": {},
   "source": []
  },
  {
   "cell_type": "markdown",
   "metadata": {},
   "source": [
    "## Create the necessary envoiriment for the validation\n",
    "\n",
    "\n"
   ]
  },
  {
   "cell_type": "code",
   "execution_count": null,
   "metadata": {},
   "outputs": [],
   "source": [
    "# make dir data if not exists\n",
    "# download the dataset using gdown in this link\n",
    "# descompact \n",
    "# move the dataset for the root\n",
    "# make dir output if not exists\n",
    "# mke dir ckpt\n",
    "# make dir UIEB if not exists\n",
    "# download UIEB ckpt  using gdown in this link\n",
    "# descompact \n",
    "# move for the root\n",
    "# make dir RUIE if not exists\n",
    "# download RUIE ckpt using gdown in this link\n",
    "# descompact\n",
    "# move for the root\n",
    "# make dir SUIM if not exists\n",
    "# download SUIM ckpt using gdown in this link\n",
    "# descompact\n",
    "# move for the root"
   ]
  },
  {
   "cell_type": "markdown",
   "metadata": {},
   "source": [
    "### Install requiriments or conda envoiriment "
   ]
  },
  {
   "cell_type": "code",
   "execution_count": null,
   "metadata": {},
   "outputs": [],
   "source": []
  },
  {
   "cell_type": "markdown",
   "metadata": {},
   "source": [
    "### Download Dataset"
   ]
  },
  {
   "cell_type": "code",
   "execution_count": null,
   "metadata": {},
   "outputs": [],
   "source": [
    "# Import necessary libraries\n",
    "import os\n",
    "import gdown\n",
    "import zipfile\n",
    "\n",
    "# Create directories if they don't exist\n",
    "os.makedirs('data', exist_ok=True)\n",
    "os.makedirs('output', exist_ok=True)\n",
    "os.makedirs('ckpt', exist_ok=True)\n",
    "os.makedirs('UIEB', exist_ok=True)\n",
    "os.makedirs('RUIE', exist_ok=True)\n",
    "os.makedirs('SUIM', exist_ok=True)\n",
    "\n",
    "# Function to download, unzip and move files\n",
    "def download_and_unzip(url, extract_to, move_to):\n",
    "    # Download the file\n",
    "    output_file = os.path.join(extract_to, 'temp.zip')\n",
    "    gdown.download(url, output_file, quiet=False)\n",
    "    \n",
    "    # Unzip the file\n",
    "    with zipfile.ZipFile(output_file, 'r') as zip_ref:\n",
    "        zip_ref.extractall(extract_to)\n",
    "    \n",
    "    # Move the contents to the specified directory\n",
    "    for item in os.listdir(extract_to):\n",
    "        item_path = os.path.join(extract_to, item)\n",
    "        os.rename(item_path, os.path.join(move_to, item))\n",
    "\n",
    "    # Remove the temporary zip file\n",
    "    os.remove(output_file)\n",
    "\n",
    "# Fill in the links for download\n",
    "dataset_link = 'INSERT_DATASET_LINK_HERE'\n",
    "uie_b_link = 'INSERT_UIEB_CKPT_LINK_HERE'\n",
    "ruie_link = 'INSERT_RUIE_CKPT_LINK_HERE'\n",
    "suim_link = 'INSERT_SUIM_CKPT_LINK_HERE'\n",
    "\n",
    "# Download, unzip and move the dataset\n",
    "download_and_unzip(dataset_link, 'data', '/content')\n",
    "\n",
    "# Download, unzip and move UIEB checkpoint\n",
    "download_and_unzip(uie_b_link, 'UIEB', '/content')\n",
    "\n",
    "# Download, unzip and move RUIE checkpoint\n",
    "download_and_unzip(ruie_link, 'RUIE', '/content')\n",
    "\n",
    "# Download, unzip and move SUIM checkpoint\n",
    "download_and_unzip(suim_link, 'SUIM', '/content')\n",
    "\n",
    "print(\"All files downloaded and organized successfully.\")\n"
   ]
  },
  {
   "cell_type": "markdown",
   "metadata": {},
   "source": [
    "### Download Checkpoints"
   ]
  },
  {
   "cell_type": "code",
   "execution_count": null,
   "metadata": {},
   "outputs": [],
   "source": []
  },
  {
   "cell_type": "code",
   "execution_count": null,
   "metadata": {},
   "outputs": [],
   "source": []
  },
  {
   "cell_type": "markdown",
   "metadata": {},
   "source": [
    "\n",
    "Train from scratch, you can change setting in modelConfig \n",
    "\n",
    "```\n",
    "!python main.py --dataset_path \"\" --dataset \"UIEB\" -- state \"train\" \n",
    "!python main.py --dataset_path \"\" --dataset \"SUIM\" -- state \"train\" \n",
    "```\n",
    "\n",
    "Test The model with pretrained weights\n",
    "```\n",
    "!python main.py --pretrained_path  --dataset \"SUIM\" -- state \"eval\" --pretrained_path \"1000.pt\"\n",
    "!python main.py --pretrained_path  --dataset \"UIEB\" -- state \"eval\" --pretrained_path \"1000.pt\"\n",
    "```\n",
    "\n",
    "\n",
    "Inference model with an selected image\n",
    "```\n",
    "!python main.py --pretrained_path  --dataset \"SUIM\" -- state \"inference\" --inference_image \" \"  --pretrained_path \"1000.pt\"\n",
    "!python main.py --pretrained_path  --dataset \"UIEB\" -- state \"inference\" --inference_image \" \" --pretrained_path \"1000.pt\"\n",
    "```"
   ]
  },
  {
   "cell_type": "code",
   "execution_count": null,
   "metadata": {},
   "outputs": [],
   "source": [
    "!python main.py --dataset \"UIEB\" --state \"inference\" --pretrained_path \"output/ckpt/UIEB/ckpt_1000_.pt\" --wandb False --inference_image \"/home/pdi_4/Documentos/Glown-Diffusion/data/UDWdata/UIEB/val/635_img_.png\""
   ]
  },
  {
   "cell_type": "code",
   "execution_count": null,
   "metadata": {},
   "outputs": [],
   "source": [
    "!python main.py --dataset \"RUIE\" --state \"inference\" --pretrained_path \"output/ckpt/RUIE/ckpt_1000_.pt\" --wandb False --inference_image \"/home/pdi_4/Documentos/Glown-Diffusion/data/UDWdata/RUIE/UIQS/val/A_655.jpg\""
   ]
  },
  {
   "cell_type": "code",
   "execution_count": null,
   "metadata": {},
   "outputs": [],
   "source": [
    "!python main.py --dataset \"UIEB\" --state \"inference\" --pretrained_path \"output/ckpt/UIEB/ckpt_1000_.pt\" --wandb False --inference_image \"/home/pdi_4/Documentos/Glown-Diffusion/data/UDWdata/UIEB/val/789_img_.png\""
   ]
  },
  {
   "cell_type": "markdown",
   "metadata": {},
   "source": [
    "# Calculate Metrics"
   ]
  },
  {
   "cell_type": "markdown",
   "metadata": {},
   "source": [
    "\n"
   ]
  }
 ],
 "metadata": {
  "language_info": {
   "name": "python"
  }
 },
 "nbformat": 4,
 "nbformat_minor": 2
}
