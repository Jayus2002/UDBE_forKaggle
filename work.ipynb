{
 "cells": [
  {
   "cell_type": "markdown",
   "metadata": {},
   "source": [
    "# Test Envoiriment for the  functions in the module"
   ]
  },
  {
   "cell_type": "markdown",
   "metadata": {},
   "source": [
    "[How To Use Conda Environment In a Jupyter Notebook\n",
    "](https://saturncloud.io/blog/how-to-use-conda-environment-in-a-jupyter-notebook/#:~:text=Using%20a%20Conda%20Environment%20in%20Jupyter%20Notebook&text=This%20package%20allows%20you%20to,be%20used%20in%20Jupyter%20Notebook.&text=This%20will%20create%20a%20new%20kernel%20for%20the%20“myenv”%20environment,be%20used%20in%20Jupyter%20Notebook.)"
   ]
  },
  {
   "cell_type": "code",
   "execution_count": null,
   "metadata": {},
   "outputs": [],
   "source": []
  },
  {
   "cell_type": "markdown",
   "metadata": {},
   "source": [
    "## Train"
   ]
  },
  {
   "cell_type": "code",
   "execution_count": null,
   "metadata": {},
   "outputs": [],
   "source": [
    "#!python main.py --model --datasetpath --state \"train\" --pretrained_path --output_path"
   ]
  },
  {
   "cell_type": "code",
   "execution_count": null,
   "metadata": {},
   "outputs": [],
   "source": [
    "\n"
   ]
  },
  {
   "cell_type": "markdown",
   "metadata": {},
   "source": [
    "## Test"
   ]
  },
  {
   "cell_type": "code",
   "execution_count": 8,
   "metadata": {},
   "outputs": [
    {
     "name": "stdout",
     "output_type": "stream",
     "text": [
      "<function mean at 0x77d6e03c6020>\n",
      "Setting up [LPIPS] perceptual loss: trunk [alex], v[0.1], spatial [off]\n"
     ]
    },
    {
     "name": "stderr",
     "output_type": "stream",
     "text": [
      "/home/gusanagy/anaconda3/envs/CLEDiff/lib/python3.11/site-packages/torchvision/models/_utils.py:208: UserWarning: The parameter 'pretrained' is deprecated since 0.13 and may be removed in the future, please use 'weights' instead.\n",
      "  warnings.warn(\n",
      "/home/gusanagy/anaconda3/envs/CLEDiff/lib/python3.11/site-packages/torchvision/models/_utils.py:223: UserWarning: Arguments other than a weight enum or `None` for 'weights' are deprecated since 0.13 and may be removed in the future. The current behavior is equivalent to passing `weights=AlexNet_Weights.IMAGENET1K_V1`. You can also use `weights=AlexNet_Weights.DEFAULT` to get the most up-to-date weights.\n",
      "  warnings.warn(msg)\n"
     ]
    },
    {
     "name": "stdout",
     "output_type": "stream",
     "text": [
      "Loading model from: /home/gusanagy/anaconda3/envs/CLEDiff/lib/python3.11/site-packages/lpips/weights/v0.1/alex.pth\n",
      "Setting up [LPIPS] perceptual loss: trunk [vgg], v[0.1], spatial [off]\n"
     ]
    },
    {
     "name": "stderr",
     "output_type": "stream",
     "text": [
      "/home/gusanagy/anaconda3/envs/CLEDiff/lib/python3.11/site-packages/torchvision/models/_utils.py:223: UserWarning: Arguments other than a weight enum or `None` for 'weights' are deprecated since 0.13 and may be removed in the future. The current behavior is equivalent to passing `weights=VGG16_Weights.IMAGENET1K_V1`. You can also use `weights=VGG16_Weights.DEFAULT` to get the most up-to-date weights.\n",
      "  warnings.warn(msg)\n"
     ]
    },
    {
     "name": "stdout",
     "output_type": "stream",
     "text": [
      "Loading model from: /home/gusanagy/anaconda3/envs/CLEDiff/lib/python3.11/site-packages/lpips/weights/v0.1/vgg.pth\n",
      "Setting up [LPIPS] perceptual loss: trunk [squeeze], v[0.1], spatial [off]\n",
      "Loading model from: /home/gusanagy/anaconda3/envs/CLEDiff/lib/python3.11/site-packages/lpips/weights/v0.1/squeeze.pth\n",
      "DarkChannelPriorLoss : -4.091731548309326 // Time: 0.000232696533203125\n",
      "L_exp : 0.011746272444725037 // Time: 0.0001773834228515625\n",
      "L_color : 3.982763519161381e-05 // Time: 0.00012874603271484375\n",
      "mse_loss : 1.9858440160751343 // Time: 6.437301635742188e-05\n",
      "light_loss : 0.7579351663589478 // Time: 0.00023174285888671875\n",
      "color_loss : 0.9887773990631104 // Time: 0.002427339553833008\n",
      "L1Loss : 1.1202781200408936 // Time: 4.649162292480469e-05\n",
      "SSIM loss : 0.4979829788208008 // Time: 0.003293275833129883\n",
      "lch_loss : 154.82911682128906 // Time: 0.011107921600341797\n",
      "lab_loss : 25146.662109375 // Time: 0.0026063919067382812\n",
      "loss_fn_alex : 0.11614850163459778 // Time: 0.007351398468017578\n",
      "loss_fn_vgg : 0.31009984016418457 // Time: 0.07834935188293457\n",
      "loss_squeeze : 0.08554304391145706 // Time: 0.011335611343383789\n"
     ]
    },
    {
     "name": "stderr",
     "output_type": "stream",
     "text": [
      "/home/gusanagy/anaconda3/envs/CLEDiff/lib/python3.11/site-packages/torchvision/models/_utils.py:223: UserWarning: Arguments other than a weight enum or `None` for 'weights' are deprecated since 0.13 and may be removed in the future. The current behavior is equivalent to passing `weights=SqueezeNet1_1_Weights.IMAGENET1K_V1`. You can also use `weights=SqueezeNet1_1_Weights.DEFAULT` to get the most up-to-date weights.\n",
      "  warnings.warn(msg)\n"
     ]
    }
   ],
   "source": [
    "from loss import *\n",
    "from Metrics import *\n",
    "from torch.nn.functional import mse_loss\n",
    "from kornia.losses import ssim_loss\n",
    "from numpy import mean \n",
    "from time import time\n",
    "import lpips\n",
    "\n",
    "class ssim_1(nn.Module):\n",
    "    def __init__(self, window_size):\n",
    "        super(ssim_1,self).__init__()\n",
    "        self.window_size = window_size\n",
    "    def forward(self, input, target):\n",
    "        return ssim_loss(input, target, self.window_size)\n",
    "\n",
    "class mse_1(nn.Module):\n",
    "    def __init__(self):\n",
    "        super(mse_1,self).__init__()\n",
    "\n",
    "    def forward(self, input, target):\n",
    "        return mse_loss(input, target)\n",
    "\n",
    "gt_image = torch.randn(1, 3, 64, 64, requires_grad=True)\n",
    "t_image = torch.randn(1, 3, 64, 64, requires_grad=True)\n",
    "mean_val = mean(t_image.detach().numpy())\n",
    "\n",
    "# Example usage of the Dark Channel Prior loss function\n",
    "#find patch size\n",
    "patch_size = 5\n",
    "print(mean)\n",
    "losses = {\n",
    "    \"DarkChannelPriorLoss\": DarkChannelPriorLoss(patch_size),\n",
    "    \"L_exp\": L_exp(patch_size,mean_val),\n",
    "    \"L_color\": L_color(),\n",
    "    \"mse_loss\":mse_1(),\n",
    "    \"light_loss\": light_loss2(),\n",
    "    \"color_loss\": color_loss2(),\n",
    "    \"L1Loss\": L1Loss(),\n",
    "    \"SSIM loss\":ssim_1(window_size=11),\n",
    "    \"lch_loss\": lch_Loss(),\n",
    "    \"lab_loss\": lab_Loss(),\n",
    "    \"loss_fn_alex\" : lpips.LPIPS(net='alex'), # best forward scores\n",
    "    \"loss_fn_vgg\" : lpips.LPIPS(net='vgg'), # closer to \"traditional\" perceptual loss, when used for optimization\n",
    "    \"loss_squeeze\" : lpips.LPIPS(net='squeeze') # lightest, faster, narrower, lower quality\n",
    "}\n",
    "\n",
    "for name, loss in losses.items():\n",
    "    start_time = time()\n",
    "    if name== \"loss_fn_vgg\" or name == \"loss_squeeze\" or name == \"loss_fn_alex\" or name == \"L1Loss\" or name == \"light_loss\" or name == \"color_loss\" or name == \"SSIM loss\" or name == \"color_loss\" or name == \"mse_loss\" or name == \"lab_loss\" or name == \"lch_loss\":\n",
    "        loss = loss(gt_image, t_image)\n",
    "    else:\n",
    "        loss = loss(t_image)\n",
    "    end_time = time()\n",
    "    print(name, \":\", loss.item(), \"// Time:\", end_time-start_time)\n"
   ]
  },
  {
   "cell_type": "code",
   "execution_count": 4,
   "metadata": {},
   "outputs": [
    {
     "name": "stdout",
     "output_type": "stream",
     "text": [
      "L1 Loss: 1.2468688488006592\n"
     ]
    }
   ],
   "source": [
    "import torch\n",
    "import torch.nn as nn\n",
    "\n",
    "class L1Loss(nn.Module):\n",
    "    def __init__(self):\n",
    "        super(L1Loss, self).__init__()\n",
    "\n",
    "    def forward(self, input, target):\n",
    "        # Calcula a diferença absoluta entre o input e o target\n",
    "        abs_diff = torch.abs(input - target)\n",
    "        # Calcula a média da diferença absoluta\n",
    "        loss = torch.mean(abs_diff)\n",
    "        return loss\n",
    "\n",
    "# Exemplo de uso da função de perda L1\n",
    "loss_function = L1Loss()\n",
    "\n",
    "# Tensors de exemplo\n",
    "input = torch.randn(3, 5, requires_grad=True)\n",
    "target = torch.randn(3, 5, requires_grad=False)\n",
    "\n",
    "# Calcula a perda\n",
    "loss = loss_function(input, target)\n",
    "\n",
    "print(\"L1 Loss:\", loss.item())"
   ]
  },
  {
   "cell_type": "markdown",
   "metadata": {},
   "source": [
    "## Inference"
   ]
  },
  {
   "cell_type": "markdown",
   "metadata": {},
   "source": []
  }
 ],
 "metadata": {
  "kernelspec": {
   "display_name": "Python 3",
   "language": "python",
   "name": "python3"
  },
  "language_info": {
   "codemirror_mode": {
    "name": "ipython",
    "version": 3
   },
   "file_extension": ".py",
   "mimetype": "text/x-python",
   "name": "python",
   "nbconvert_exporter": "python",
   "pygments_lexer": "ipython3",
   "version": "3.11.0"
  }
 },
 "nbformat": 4,
 "nbformat_minor": 2
}
