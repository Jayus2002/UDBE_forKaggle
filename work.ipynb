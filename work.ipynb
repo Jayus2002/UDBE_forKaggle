{
 "cells": [
  {
   "cell_type": "markdown",
   "metadata": {},
   "source": [
    "# Test Envoiriment for the  functions in the module"
   ]
  },
  {
   "cell_type": "markdown",
   "metadata": {},
   "source": [
    "[How To Use Conda Environment In a Jupyter Notebook\n",
    "](https://saturncloud.io/blog/how-to-use-conda-environment-in-a-jupyter-notebook/#:~:text=Using%20a%20Conda%20Environment%20in%20Jupyter%20Notebook&text=This%20package%20allows%20you%20to,be%20used%20in%20Jupyter%20Notebook.&text=This%20will%20create%20a%20new%20kernel%20for%20the%20“myenv”%20environment,be%20used%20in%20Jupyter%20Notebook.)"
   ]
  },
  {
   "cell_type": "code",
   "execution_count": null,
   "metadata": {},
   "outputs": [],
   "source": []
  },
  {
   "cell_type": "markdown",
   "metadata": {},
   "source": [
    "## Train"
   ]
  },
  {
   "cell_type": "code",
   "execution_count": null,
   "metadata": {},
   "outputs": [],
   "source": [
    "#!python main.py --model --datasetpath --state \"train\" --pretrained_path --output_path"
   ]
  },
  {
   "cell_type": "code",
   "execution_count": null,
   "metadata": {},
   "outputs": [],
   "source": [
    "\n"
   ]
  },
  {
   "cell_type": "markdown",
   "metadata": {},
   "source": [
    "## Test"
   ]
  },
  {
   "cell_type": "code",
   "execution_count": 3,
   "metadata": {},
   "outputs": [
    {
     "name": "stdout",
     "output_type": "stream",
     "text": [
      "<function mean at 0x70dcd0f73ba0>\n",
      "DarkChannelPriorLoss : -3.923384666442871 // Time: 0.0005326271057128906\n",
      "L_exp : 0.013332522474229336 // Time: 0.0003311634063720703\n",
      "L_color : 0.0005000258097425103 // Time: 0.0003032684326171875\n",
      "mse_loss : 2.004722833633423 // Time: 0.0001404285430908203\n",
      "light_loss : 0.7494372725486755 // Time: 0.0006361007690429688\n",
      "color_loss : 1.0100957155227661 // Time: 0.0157778263092041\n",
      "L1Loss : 1.131292700767517 // Time: 0.00016880035400390625\n",
      "SSIM loss : 0.4986971318721771 // Time: 0.010942459106445312\n",
      "lch_loss : 153.28282165527344 // Time: 0.016851186752319336\n",
      "lab_loss : 25149.736328125 // Time: 0.0041124820709228516\n"
     ]
    }
   ],
   "source": [
    "from loss import *\n",
    "from Metrics import *\n",
    "from torch.nn.functional import mse_loss\n",
    "from kornia.losses import ssim_loss\n",
    "from numpy import mean \n",
    "from time import time\n",
    "\n",
    "\n",
    "class ssim_1(nn.Module):\n",
    "    def __init__(self, window_size):\n",
    "        super(ssim_1,self).__init__()\n",
    "        self.window_size = window_size\n",
    "    def forward(self, input, target):\n",
    "        return ssim_loss(input, target, self.window_size)\n",
    "\n",
    "class mse_1(nn.Module):\n",
    "    def __init__(self):\n",
    "        super(mse_1,self).__init__()\n",
    "\n",
    "    def forward(self, input, target):\n",
    "        return mse_loss(input, target)\n",
    "\n",
    "gt_image = torch.randn(1, 3, 64, 64, requires_grad=True)\n",
    "t_image = torch.randn(1, 3, 64, 64, requires_grad=True)\n",
    "mean_val = mean(t_image.detach().numpy())\n",
    "\n",
    "# Example usage of the Dark Channel Prior loss function\n",
    "#find patch size\n",
    "patch_size = 5\n",
    "print(mean)\n",
    "losses = {\n",
    "    \"DarkChannelPriorLoss\": DarkChannelPriorLoss(patch_size),\n",
    "    \"L_exp\": L_exp(patch_size,mean_val),\n",
    "    \"L_color\": L_color(),\n",
    "    \"mse_loss\":mse_1(),\n",
    "    \"light_loss\": light_loss2(),\n",
    "    \"color_loss\": color_loss2(),\n",
    "    \"L1Loss\": L1Loss(),\n",
    "    \"SSIM loss\":ssim_1(window_size=11),\n",
    "    \"lch_loss\": lch_Loss(),\n",
    "    \"lab_loss\": lab_Loss()\n",
    "}\n",
    "\n",
    "for name, loss in losses.items():\n",
    "    start_time = time()\n",
    "    if name == \"L1Loss\" or name == \"light_loss\" or name == \"color_loss\" or name == \"SSIM loss\" or name == \"color_loss\" or name == \"mse_loss\" or name == \"lab_loss\" or name == \"lch_loss\":\n",
    "        loss = loss(gt_image, t_image)\n",
    "    else:\n",
    "        loss = loss(t_image)\n",
    "    end_time = time()\n",
    "    print(name, \":\", loss.item(), \"// Time:\", end_time-start_time)\n",
    "\n",
    "# x = loss(gt_image, t_image) for loss in losses.values()\n",
    "\n",
    "# print(\"Dark Channel Prior Loss:\", loss.item())"
   ]
  },
  {
   "cell_type": "code",
   "execution_count": 1,
   "metadata": {},
   "outputs": [
    {
     "name": "stdout",
     "output_type": "stream",
     "text": [
      "L1 Loss: 0.6850106120109558\n"
     ]
    }
   ],
   "source": [
    "import torch\n",
    "import torch.nn as nn\n",
    "\n",
    "class L1Loss(nn.Module):\n",
    "    def __init__(self):\n",
    "        super(L1Loss, self).__init__()\n",
    "\n",
    "    def forward(self, input, target):\n",
    "        # Calcula a diferença absoluta entre o input e o target\n",
    "        abs_diff = torch.abs(input - target)\n",
    "        # Calcula a média da diferença absoluta\n",
    "        loss = torch.mean(abs_diff)\n",
    "        return loss\n",
    "\n",
    "# Exemplo de uso da função de perda L1\n",
    "loss_function = L1Loss()\n",
    "\n",
    "# Tensors de exemplo\n",
    "input = torch.randn(3, 5, requires_grad=True)\n",
    "target = torch.randn(3, 5, requires_grad=False)\n",
    "\n",
    "# Calcula a perda\n",
    "loss = loss_function(input, target)\n",
    "\n",
    "print(\"L1 Loss:\", loss.item())"
   ]
  },
  {
   "cell_type": "markdown",
   "metadata": {},
   "source": [
    "## Inference"
   ]
  },
  {
   "cell_type": "markdown",
   "metadata": {},
   "source": []
  }
 ],
 "metadata": {
  "kernelspec": {
   "display_name": "Python 3",
   "language": "python",
   "name": "python3"
  },
  "language_info": {
   "codemirror_mode": {
    "name": "ipython",
    "version": 3
   },
   "file_extension": ".py",
   "mimetype": "text/x-python",
   "name": "python",
   "nbconvert_exporter": "python",
   "pygments_lexer": "ipython3",
   "version": "3.11.0"
  }
 },
 "nbformat": 4,
 "nbformat_minor": 2
}
